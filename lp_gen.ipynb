{
 "cells": [
  {
   "cell_type": "code",
   "execution_count": 394,
   "metadata": {},
   "outputs": [],
   "source": [
    "import cv2\n",
    "import os\n",
    "import random\n",
    "import math\n",
    "import numpy as np\n",
    "import pandas as pd\n",
    "from PIL import ImageFont, ImageDraw, Image\n",
    "import matplotlib.pyplot as plt"
   ]
  },
  {
   "cell_type": "code",
   "execution_count": 43,
   "metadata": {},
   "outputs": [],
   "source": [
    "# img_dir = os.listdir('chars_original')\n",
    "# for img_name in img_dir:\n",
    "#     img = cv2.imread(os.path.join('chars_original', img_name), 0)\n",
    "#     _, thrs = cv2.threshold(img, 100, 255, cv2.THRESH_BINARY)\n",
    "#     op_img = cv2.GaussianBlur(thrs, (3,3), 1, 1)\n",
    "#     cv2.imwrite('op_chars/' + img_name, op_img)"
   ]
  },
  {
   "cell_type": "code",
   "execution_count": 638,
   "metadata": {},
   "outputs": [],
   "source": [
    "class ImageGenerator:\n",
    "    def __init__(self, save_path='/'):\n",
    "        self.save_path = save_path\n",
    "        \n",
    "        # plates (ratio 9:4, X = 162px, Y = 72px)\n",
    "        self.plate_path = 'plates/'\n",
    "        self.plate_name_list = os.listdir(self.plate_path)\n",
    "        self.char_y = 12\n",
    "        # self.plate_list = []\n",
    "        # for plate_name in plate_name_list:\n",
    "        # img = cv2.imread(os.path.join(plate_path, plate_name))\n",
    "        # self.plate_list.append(img)\n",
    "        \n",
    "        # characters (X = 17px, Y = 25px)\n",
    "        char_path = 'chars/'\n",
    "        char_name_list = os.listdir(char_path)\n",
    "        self.char_list = []\n",
    "        for char_name in char_name_list:\n",
    "            img = cv2.imread(os.path.join(char_path, char_name))\n",
    "            resize_img = cv2.resize(img, (17,25))\n",
    "            self.char_list.append(resize_img)\n",
    "            \n",
    "        # numbers (X = 17px, Y = 25px)\n",
    "        number_path = 'numbers/'\n",
    "        num_name_list = os.listdir(number_path)\n",
    "        self.num_list = []\n",
    "        for num_name in num_name_list:\n",
    "            img = cv2.imread(os.path.join(number_path, num_name))\n",
    "            resize_img = cv2.resize(img, (17,25)) if not '1' in num_name else cv2.resize(img, (12,25))\n",
    "            self.num_list.append(resize_img)\n",
    "        \n",
    "        # province\n",
    "        self.font = ImageFont.truetype(\"Sarun's ThangLuang.ttf\", 17)\n",
    "        province_df = pd.read_csv('provinces.csv')\n",
    "        self.province_list = province_df.iloc[:,1].values\n",
    "        \n",
    "    def concatenate_char(self, char_list, prefix=3):\n",
    "        blank = np.full((25,2,3), 255, dtype='uint8')\n",
    "        tab = np.full((25,14,3), 255, dtype='uint8')\n",
    "        temp_list = []\n",
    "        for i in range(len(char_list)):\n",
    "            temp_list.append(char_list[i])\n",
    "            if prefix == (i+1):\n",
    "                temp_list.append(tab)\n",
    "            else:\n",
    "                if len(char_list) == (i+1):\n",
    "                    pass\n",
    "                else:\n",
    "                    temp_list.append(blank)\n",
    "        concat_img = cv2.hconcat(temp_list)\n",
    "        return concat_img\n",
    "    \n",
    "    def random_char(self):\n",
    "        char_list = []\n",
    "        chars_in_plate = random.choice([6,7])\n",
    "        prefix = 3 if chars_in_plate == 7 else 2\n",
    "        rules = []\n",
    "        for i in range(chars_in_plate):\n",
    "            if i < prefix:\n",
    "                if prefix == 3 and i == 0:\n",
    "                    char_list.append(random.choice(self.num_list))\n",
    "                else:\n",
    "                    char_list.append(random.choice(self.char_list)) \n",
    "            else:\n",
    "                char_list.append(random.choice(self.num_list))\n",
    "        return self.concatenate_char(char_list, prefix)\n",
    "    \n",
    "    def gen_lp(self):\n",
    "        plate = cv2.imread(os.path.join(self.plate_path, random.choice(self.plate_name_list)))\n",
    "        chars_img = self.random_char()\n",
    "        w, h = chars_img.shape[1], chars_img.shape[0]\n",
    "        plate[self.char_y:self.char_y+h, math.floor((plate.shape[1]-w)/2):plate.shape[1]-math.ceil((plate.shape[1]-w)/2), :] = chars_img\n",
    "        pil_img = Image.fromarray(plate)\n",
    "        draw = ImageDraw.Draw(pil_img)\n",
    "        province = random.choice(self.province_list)\n",
    "        w, h = draw.textsize(province, font=self.font)\n",
    "        draw.text(((162-w)/2, 37), province, fill=(0,0,0,255), font=self.font)  \n",
    "        return np.array(pil_img)"
   ]
  },
  {
   "cell_type": "code",
   "execution_count": 639,
   "metadata": {},
   "outputs": [],
   "source": [
    "img_gen = ImageGenerator()"
   ]
  },
  {
   "cell_type": "code",
   "execution_count": 640,
   "metadata": {},
   "outputs": [
    {
     "data": {
      "text/plain": [
       "<matplotlib.image.AxesImage at 0x20d4c3e0388>"
      ]
     },
     "execution_count": 640,
     "metadata": {},
     "output_type": "execute_result"
    },
    {
     "data": {
      "image/png": "[encoded data removed]",
      "text/plain": [
       "<Figure size 432x288 with 1 Axes>"
      ]
     },
     "metadata": {
      "needs_background": "light"
     },
     "output_type": "display_data"
    }
   ],
   "source": [
    "img = img_gen.gen_lp()\n",
    "plt.imshow(img)"
   ]
  },
  {
   "cell_type": "code",
   "execution_count": 435,
   "metadata": {},
   "outputs": [
    {
     "data": {
      "text/plain": [
       "(72, 162, 3)"
      ]
     },
     "execution_count": 435,
     "metadata": {},
     "output_type": "execute_result"
    }
   ],
   "source": [
    "img.shape"
   ]
  },
  {
   "cell_type": "code",
   "execution_count": 596,
   "metadata": {},
   "outputs": [],
   "source": [
    "def image_augmentation(img, type2=False):\n",
    "    # perspective\n",
    "    w, h, _ = img.shape\n",
    "    pts1 = np.float32([[0, 0], [0, w], [h, 0], [h, w]])\n",
    "    begin, end = 0, 25\n",
    "    pts2 = np.float32([[random.randint(begin, end), random.randint(begin, end)],\n",
    "                       [random.randint(begin, end), w - random.randint(begin, end)],\n",
    "                       [h - random.randint(begin, end), random.randint(begin, end)],\n",
    "                       [h - random.randint(begin, end), w - random.randint(begin, end)]])\n",
    "    M = cv2.getPerspectiveTransform(pts1, pts2)\n",
    "\n",
    "    img = cv2.warpPerspective(img, M, (h, w))\n",
    "\n",
    "    # Brightness\n",
    "    img = cv2.cvtColor(img, cv2.COLOR_RGB2HSV)\n",
    "    img = np.array(img, dtype=np.float64)\n",
    "    random_bright = .4 + np.random.uniform()\n",
    "    img[:, :, 2] = img[:, :, 2] * random_bright\n",
    "    img[:, :, 2][img[:, :, 2] > 255] = 255\n",
    "    img = np.array(img, dtype=np.uint8)\n",
    "    img = cv2.cvtColor(img, cv2.COLOR_HSV2RGB)\n",
    "\n",
    "    # Blur\n",
    "#     blur_value = random.randint(0,4) * 2 + 1\n",
    "#     img = cv2.blur(img,(blur_value, blur_value))\n",
    "\n",
    "    return img"
   ]
  },
  {
   "cell_type": "code",
   "execution_count": 645,
   "metadata": {},
   "outputs": [
    {
     "data": {
      "text/plain": [
       "<matplotlib.image.AxesImage at 0x20d4c066648>"
      ]
     },
     "execution_count": 645,
     "metadata": {},
     "output_type": "execute_result"
    },
    {
     "data": {
      "image/png": "[encoded data removed]",
      "text/plain": [
       "<Figure size 432x288 with 1 Axes>"
      ]
     },
     "metadata": {
      "needs_background": "light"
     },
     "output_type": "display_data"
    }
   ],
   "source": [
    "plt.imshow(image_augmentation(img))"
   ]
  }
 ],
 "metadata": {
  "kernelspec": {
   "display_name": "Python 3",
   "language": "python",
   "name": "python3"
  },
  "language_info": {
   "codemirror_mode": {
    "name": "ipython",
    "version": 3
   },
   "file_extension": ".py",
   "mimetype": "text/x-python",
   "name": "python",
   "nbconvert_exporter": "python",
   "pygments_lexer": "ipython3",
   "version": "3.7.4"
  }
 },
 "nbformat": 4,
 "nbformat_minor": 4
}
