{
 "cells": [
  {
   "cell_type": "code",
   "execution_count": 1,
   "metadata": {},
   "outputs": [],
   "source": [
    "import cv2\n",
    "import os\n",
    "import random\n",
    "import math\n",
    "import numpy as np\n",
    "import pandas as pd\n",
    "from PIL import ImageFont, ImageDraw, Image\n",
    "import matplotlib.pyplot as plt"
   ]
  },
  {
   "cell_type": "code",
   "execution_count": 2,
   "metadata": {},
   "outputs": [],
   "source": [
    "class ImageGenerator:\n",
    "    def __init__(self, img_save_path='', gt_save_path=''):\n",
    "        self.img_save_path = img_save_path + '/'\n",
    "        self.gt_save_path = gt_save_path + '/'\n",
    "        \n",
    "        # plates (ratio 9:4, X = 162px, Y = 72px)\n",
    "        self.plate_path = 'plates/'\n",
    "        self.plate_name_list = os.listdir(self.plate_path)\n",
    "        self.char_y = 12\n",
    "        self.prov_y = 50\n",
    "        # self.plate_list = []\n",
    "        # for plate_name in plate_name_list:\n",
    "        # img = cv2.imread(os.path.join(plate_path, plate_name))\n",
    "        # self.plate_list.append(img)\n",
    "        \n",
    "        # char-map\n",
    "        self.char_map_df = pd.read_csv('char-map-new.csv')\n",
    "        \n",
    "        # characters (X = 17px, Y = 25px)\n",
    "        char_path = 'chars/'\n",
    "        char_name_list = os.listdir(char_path)\n",
    "        self.char_list = []\n",
    "        for char_name in char_name_list:\n",
    "            img = cv2.imread(os.path.join(char_path, char_name))\n",
    "            resize_img = cv2.resize(img, (17,25))\n",
    "            self.char_list.append({'img': resize_img, 'name': self.char_map_df.loc[self.char_map_df['index'] == int(char_name.split('.')[0])]['en_char'].values[0]})\n",
    "            \n",
    "        # numbers (X = 17px, Y = 25px)\n",
    "        number_path = 'numbers/'\n",
    "        num_name_list = os.listdir(number_path)\n",
    "        self.num_list = []\n",
    "        for num_name in num_name_list:\n",
    "            img = cv2.imread(os.path.join(number_path, num_name))\n",
    "            resize_img = cv2.resize(img, (17,25)) if not '1' in num_name else cv2.resize(img, (12,25))\n",
    "            self.num_list.append({'img': resize_img, 'name': num_name.split('.')[0]})\n",
    "            \n",
    "        # truck numbers (X = 17px, Y = 25px)\n",
    "        num_path = 'truck_numbers/'\n",
    "        self.nums_truck = []\n",
    "        for num_name in os.listdir(num_path):\n",
    "            img = cv2.imread(os.path.join(num_path, num_name))\n",
    "            resize_img = cv2.resize(img, (17,25)) if not '-'in num_name else cv2.resize(img, (10,25))\n",
    "            self.nums_truck.append({'img': resize_img, 'name': num_name.split('.')[0]})\n",
    "        \n",
    "        # province\n",
    "        self.font = ImageFont.truetype(\"Sarun's ThangLuang.ttf\", 17)\n",
    "        province_df = pd.read_csv('provinces.csv')\n",
    "        self.province_list = province_df.iloc[:,1].values\n",
    "        \n",
    "    def concatenate_char(self, char_list, prefix=3):\n",
    "        blank = np.full((25,2,3), 255, dtype='uint8')\n",
    "        tab = np.full((25,14,3), 255, dtype='uint8')\n",
    "        temp_list = []\n",
    "        for i in range(len(char_list)):\n",
    "            temp_list.append(char_list[i])\n",
    "            if prefix == (i+1):\n",
    "                temp_list.append(tab)\n",
    "            else:\n",
    "                if len(char_list) == (i+1):\n",
    "                    pass\n",
    "                else:\n",
    "                    temp_list.append(blank)\n",
    "        concat_img = cv2.hconcat(temp_list)\n",
    "        return concat_img\n",
    "    \n",
    "    def random_char(self):\n",
    "        char_list, name_list = [], []\n",
    "        chars_in_plate = random.choice([6,7])\n",
    "        prefix = 3 if chars_in_plate == 7 else 2\n",
    "        for i in range(chars_in_plate):\n",
    "            if i < prefix:\n",
    "                if prefix == 3 and i == 0:\n",
    "                    rand = random.choice(self.num_list)\n",
    "                    char_list.append(rand['img'])\n",
    "                    name_list.append(rand['name'])\n",
    "                else:\n",
    "                    rand = random.choice(self.char_list)\n",
    "                    char_list.append(rand['img']) \n",
    "                    name_list.append(rand['name'])\n",
    "            else:\n",
    "                rand = random.choice(self.num_list)\n",
    "                char_list.append(rand['img'])\n",
    "                name_list.append(rand['name'])\n",
    "        return {'img': self.concatenate_char(char_list, prefix), 'name': name_list}\n",
    "    \n",
    "    def concatenate_char_truck(self, char_list):\n",
    "        blank = np.full((25,2,3), 255, dtype='uint8')\n",
    "        dash = list(filter(lambda ele: ele['name']=='-', self.nums_truck))[0]['img']\n",
    "        temp_list = []\n",
    "        for i in range(len(char_list)):\n",
    "            if i == 2:\n",
    "                temp_list.append(dash)\n",
    "                temp_list.append(blank)\n",
    "            else:\n",
    "                temp_list.append(char_list[i])\n",
    "                temp_list.append(blank)\n",
    "        concat_img = cv2.hconcat(temp_list)\n",
    "        return concat_img\n",
    "    \n",
    "    def random_char_truck(self):\n",
    "        char_list, name_list = [], []\n",
    "        # Ex. 11-2697\n",
    "        chars_in_plate = 7\n",
    "        for i in range(chars_in_plate):\n",
    "            rand = random.choice(self.nums_truck)\n",
    "            while rand['name'] == '-':\n",
    "                rand = random.choice(self.nums_truck)\n",
    "            char_list.append(rand['img'])\n",
    "            name_list.append(rand['name'])\n",
    "        return {'img': self.concatenate_char_truck(char_list), 'name': name_list}\n",
    "    \n",
    "    def gen_lp(self, augment=False):\n",
    "        plate = cv2.imread(os.path.join(self.plate_path, random.choice(self.plate_name_list)))\n",
    "        rand = self.random_char()\n",
    "        chars_img, name_img = rand['img'], rand['name']\n",
    "        w, h = chars_img.shape[1], chars_img.shape[0]\n",
    "        plate[self.char_y:self.char_y+h, math.floor((plate.shape[1]-w)/2):plate.shape[1]-math.ceil((plate.shape[1]-w)/2), :] = chars_img\n",
    "        bbox1 = {'x_min': math.floor((plate.shape[1]-w)/2)-2, 'x_max': math.floor((plate.shape[1]-w)/2)+w+2, 'y_min': self.char_y-2, 'y_max': self.char_y+h+2}\n",
    "        pil_img = Image.fromarray(plate)\n",
    "        draw = ImageDraw.Draw(pil_img)\n",
    "        province = random.choice(self.province_list)\n",
    "        province_map = []\n",
    "        for prov_name in province:\n",
    "            try:\n",
    "                if prov_name == 'ำ':\n",
    "                    province_map.append(self.char_map_df.loc[self.char_map_df['th_char']=='า']['en_char'].values[0])\n",
    "                if prov_name == 'แ':\n",
    "                    province_map.append(self.char_map_df.loc[self.char_map_df['th_char']=='เ']['en_char'].values[0])\n",
    "                    province_map.append(self.char_map_df.loc[self.char_map_df['th_char']=='เ']['en_char'].values[0])\n",
    "                else:\n",
    "                    province_map.append(self.char_map_df.loc[self.char_map_df['th_char']==prov_name]['en_char'].values[0])\n",
    "            except:\n",
    "                pass\n",
    "        w, h = draw.textsize(province, font=self.font)\n",
    "        draw.text(((plate.shape[1]-w)/2, 37), province, fill=(0,0,0,255), font=self.font)  \n",
    "        bbox2 = {'x_min': int((plate.shape[1]-w)/2)-1, 'x_max': int((plate.shape[1]-w)/2)+w, 'y_min': 37+10, 'y_max': 37+h}\n",
    "        if augment:\n",
    "            return self.image_augmentation({'img': np.array(pil_img), 'name': name_img, 'bbox1': bbox1, 'province': province_map, 'bbox2': bbox2})\n",
    "        return {'img': np.array(pil_img), 'name': name_img, 'bbox1': bbox1, 'province': province_map, 'bbox2': bbox2}\n",
    "    \n",
    "    def gen_multi_lp(self, num_desire, augment=False, percent_th=1):\n",
    "        for num in range(num_desire):\n",
    "            if random.random() <= percent_th:\n",
    "                img = self.gen_lp(augment)\n",
    "            else:\n",
    "                img = self.gen_truck_lp(augment)\n",
    "            cv2.imwrite(self.img_save_path + str(num) + '.jpg', img['img'])\n",
    "            name = ''\n",
    "            for ele in img['name']:\n",
    "                name += ele\n",
    "            province = ''\n",
    "            for ele in img['province']:\n",
    "                province += ele\n",
    "            file = open(self.gt_save_path + 'gt_' + str(num) + '.txt', 'w') \n",
    "            file.write(str(img['bbox1']['x_min']) + ',' + str(img['bbox1']['y_min']) + ',' + str(img['bbox1']['x_max']) + ',' + str(img['bbox1']['y_max']) + ',' + name)\n",
    "            file.write('\\n')\n",
    "            file.write(str(img['bbox2']['x_min']) + ',' + str(img['bbox2']['y_min']) + ',' + str(img['bbox2']['x_max']) + ',' + str(img['bbox2']['y_max']) + ',' + province)\n",
    "            file.close()\n",
    "            \n",
    "    def gen_truck_lp(self, augment=False):\n",
    "        plate = cv2.imread(os.path.join(self.plate_path, random.choice(self.plate_name_list)))\n",
    "        rand = self.random_char_truck()\n",
    "        chars_img, name_img = rand['img'], rand['name']\n",
    "        w, h = chars_img.shape[1], chars_img.shape[0]\n",
    "        plate[self.char_y:self.char_y+h, math.floor((plate.shape[1]-w)/2):plate.shape[1]-math.ceil((plate.shape[1]-w)/2), :] = chars_img\n",
    "        bbox1 = {'x_min': math.floor((plate.shape[1]-w)/2)-2, 'x_max': math.floor((plate.shape[1]-w)/2)+w+2, 'y_min': self.char_y-2, 'y_max': self.char_y+h+2}\n",
    "        pil_img = Image.fromarray(plate)\n",
    "        draw = ImageDraw.Draw(pil_img)\n",
    "        province = random.choice(self.province_list)\n",
    "        province_map = []\n",
    "        for prov_name in province:\n",
    "            try:\n",
    "                province_map.append(self.char_map_df.loc[self.char_map_df['th_char']==prov_name]['en_char'].values[0])\n",
    "            except:\n",
    "                pass\n",
    "        w, h = draw.textsize(province, font=self.font)\n",
    "        draw.text(((plate.shape[1]-w)/2, 37), province, fill=(0,0,0,255), font=self.font)  \n",
    "        bbox2 = {'x_min': int((plate.shape[1]-w)/2)-1, 'x_max': int((plate.shape[1]-w)/2)+w, 'y_min': 37+10, 'y_max': 37+h}\n",
    "        if augment:\n",
    "            return self.image_augmentation({'img': np.array(pil_img), 'name': name_img, 'bbox1': bbox1, 'province': province_map, 'bbox2': bbox2})\n",
    "        return {'img': np.array(pil_img), 'name': name_img, 'bbox1': bbox1, 'province': province_map, 'bbox2': bbox2}\n",
    "    \n",
    "    def image_augmentation(self, image):\n",
    "        img = image['img']\n",
    "        w, h, _ = img.shape\n",
    "\n",
    "        # perspective\n",
    "        pts1 = np.float32([[0, 0], [0, w], [h, 0], [h, w]])\n",
    "        begin, end = 0, 25\n",
    "        pts2 = np.float32([[random.randint(begin, end), random.randint(begin, end)],\n",
    "                           [random.randint(begin, end), w - random.randint(begin, end)],\n",
    "                           [h - random.randint(begin, end), random.randint(begin, end)],\n",
    "                           [h - random.randint(begin, end), w - random.randint(begin, end)]])\n",
    "        M = cv2.getPerspectiveTransform(pts1, pts2)\n",
    "\n",
    "        bbox1_warp_1 = np.dot(M, np.array([image['bbox1']['x_min'],image['bbox1']['y_min'], 1]))\n",
    "        bbox1_warp_2 = np.dot(M, np.array([image['bbox1']['x_min'],image['bbox1']['y_max'], 1]))\n",
    "        bbox1_warp_3 = np.dot(M, np.array([image['bbox1']['x_max'],image['bbox1']['y_min'], 1]))\n",
    "        bbox1_warp_4 = np.dot(M, np.array([image['bbox1']['x_max'],image['bbox1']['y_max'], 1]))\n",
    "        bbox1_min_x = min(bbox1_warp_1[0]/bbox1_warp_1[2], bbox1_warp_2[0]/bbox1_warp_2[2], bbox1_warp_3[0]/bbox1_warp_3[2], bbox1_warp_4[0]/bbox1_warp_4[2])\n",
    "        bbox1_min_y = min(bbox1_warp_1[1]/bbox1_warp_1[2], bbox1_warp_2[1]/bbox1_warp_2[2], bbox1_warp_3[1]/bbox1_warp_3[2], bbox1_warp_4[1]/bbox1_warp_4[2])\n",
    "        bbox1_max_x = max(bbox1_warp_1[0]/bbox1_warp_1[2], bbox1_warp_2[0]/bbox1_warp_2[2], bbox1_warp_3[0]/bbox1_warp_3[2], bbox1_warp_4[0]/bbox1_warp_4[2])\n",
    "        bbox1_max_y = max(bbox1_warp_1[1]/bbox1_warp_1[2], bbox1_warp_2[1]/bbox1_warp_2[2], bbox1_warp_3[1]/bbox1_warp_3[2], bbox1_warp_4[1]/bbox1_warp_4[2])\n",
    "        bbox1 = {'x_min': int(bbox1_min_x), 'x_max': int(bbox1_max_x), 'y_min': int(bbox1_min_y), 'y_max': int(bbox1_max_y)}\n",
    "\n",
    "        bbox2_warp_1 = np.dot(M, np.array([image['bbox2']['x_min'],image['bbox2']['y_min'], 1]))\n",
    "        bbox2_warp_2 = np.dot(M, np.array([image['bbox2']['x_min'],image['bbox2']['y_max'], 1]))\n",
    "        bbox2_warp_3 = np.dot(M, np.array([image['bbox2']['x_max'],image['bbox2']['y_min'], 1]))\n",
    "        bbox2_warp_4 = np.dot(M, np.array([image['bbox2']['x_max'],image['bbox2']['y_max'], 1]))\n",
    "        bbox2_min_x = min(bbox2_warp_1[0]/bbox2_warp_1[2], bbox2_warp_2[0]/bbox2_warp_2[2], bbox2_warp_3[0]/bbox2_warp_3[2], bbox2_warp_4[0]/bbox2_warp_4[2])\n",
    "        bbox2_min_y = min(bbox2_warp_1[1]/bbox2_warp_1[2], bbox2_warp_2[1]/bbox2_warp_2[2], bbox2_warp_3[1]/bbox2_warp_3[2], bbox2_warp_4[1]/bbox2_warp_4[2])\n",
    "        bbox2_max_x = max(bbox2_warp_1[0]/bbox2_warp_1[2], bbox2_warp_2[0]/bbox2_warp_2[2], bbox2_warp_3[0]/bbox2_warp_3[2], bbox2_warp_4[0]/bbox2_warp_4[2])\n",
    "        bbox2_max_y = max(bbox2_warp_1[1]/bbox2_warp_1[2], bbox2_warp_2[1]/bbox2_warp_2[2], bbox2_warp_3[1]/bbox2_warp_3[2], bbox2_warp_4[1]/bbox2_warp_4[2])\n",
    "        bbox2 = {'x_min': int(bbox2_min_x), 'x_max': int(bbox2_max_x), 'y_min': int(bbox2_min_y), 'y_max': int(bbox2_max_y)}\n",
    "\n",
    "        img = cv2.warpPerspective(img, M, (h, w))\n",
    "\n",
    "        # Brightness\n",
    "        img = cv2.cvtColor(img, cv2.COLOR_RGB2HSV)\n",
    "        img = np.array(img, dtype=np.float64)\n",
    "        random_bright = .4 + np.random.uniform()\n",
    "        img[:, :, 2] = img[:, :, 2] * random_bright\n",
    "        img[:, :, 2][img[:, :, 2] > 255] = 255\n",
    "        img = np.array(img, dtype=np.uint8)\n",
    "        img = cv2.cvtColor(img, cv2.COLOR_HSV2RGB)\n",
    "\n",
    "        # Blur\n",
    "        blur_value = random.randint(1,1) * 2 + 1\n",
    "        img = cv2.GaussianBlur(img,(blur_value, blur_value), 0.6)\n",
    "\n",
    "        return {'img': img, 'name': image['name'], 'bbox1': bbox1, 'province': image['province'], 'bbox2': bbox2}\n",
    "    \n",
    "    def test_img(self, augment=False):\n",
    "        \n",
    "        province_list = os.listdir('resize_provs/')\n",
    "        \n",
    "        plate = cv2.imread(os.path.join(self.plate_path, random.choice(self.plate_name_list)))\n",
    "        rand = self.random_char()\n",
    "        chars_img, name_img = rand['img'], rand['name']\n",
    "        w, h = chars_img.shape[1], chars_img.shape[0]\n",
    "        plate[self.char_y:self.char_y+h, math.floor((plate.shape[1]-w)/2):plate.shape[1]-math.ceil((plate.shape[1]-w)/2), :] = chars_img\n",
    "        bbox1 = {'x_min': math.floor((plate.shape[1]-w)/2)-2, 'x_max': math.floor((plate.shape[1]-w)/2)+w+2, 'y_min': self.char_y-2, 'y_max': self.char_y+h+2}\n",
    "        pil_img = Image.fromarray(plate)\n",
    "        draw = ImageDraw.Draw(pil_img)\n",
    "        province = random.choice([prov.split('.')[0] for prov in province_list])\n",
    "        prov_img = cv2.imread('resize_provs/' + province + '.jpg')\n",
    "        prov_img = cv2.resize(prov_img, (int(prov_img.shape[1]*.3), int(prov_img.shape[0]*.3)))\n",
    "        w, h = prov_img.shape[1], prov_img.shape[0]\n",
    "        plate[self.prov_y:self.prov_y+h, math.floor((plate.shape[1]-w)/2):plate.shape[1]-math.ceil((plate.shape[1]-w)/2), :] = prov_img\n",
    "        bbox2 = {'x_min': int((plate.shape[1]-w)/2)-1, 'x_max': int((plate.shape[1]-w)/2)+w, 'y_min': self.prov_y+10, 'y_max': self.prov_y+h}\n",
    "        if augment:\n",
    "            return self.image_augmentation({'img': plate, 'name': name_img, 'bbox1': bbox1, 'province': province, 'bbox2': bbox2})\n",
    "        return {'img': plate, 'name': name_img, 'bbox1': bbox1, 'province': province, 'bbox2': bbox2}\n",
    "    \n",
    "    def gen_multi_lp_test(self, num_desire, augment=False):\n",
    "        for num in range(num_desire):\n",
    "            img = self.test_img(augment)\n",
    "            cv2.imwrite(self.img_save_path + str(num) + '.jpg', img['img'])\n",
    "            name = ''\n",
    "            for ele in img['name']:\n",
    "                name += ele\n",
    "            province = ''\n",
    "            for ele in img['province']:\n",
    "                province += ele\n",
    "            file = open(self.gt_save_path + 'gt_' + str(num) + '.txt', 'w') \n",
    "            file.write(str(img['bbox1']['x_min']) + ',' + str(img['bbox1']['y_min']) + ',' + str(img['bbox1']['x_max']) + ',' + str(img['bbox1']['y_max']) + ',' + name)\n",
    "            file.write('\\n')\n",
    "            file.write(str(img['bbox2']['x_min']) + ',' + str(img['bbox2']['y_min']) + ',' + str(img['bbox2']['x_max']) + ',' + str(img['bbox2']['y_max']) + ',' + province)\n",
    "            file.close()"
   ]
  },
  {
   "cell_type": "code",
   "execution_count": 3,
   "metadata": {},
   "outputs": [],
   "source": [
    "img_gen = ImageGenerator('D:/PythonProjects/thai-license-plate-generator', 'D:/PythonProjects/thai-license-plate-generator')"
   ]
  },
  {
   "cell_type": "code",
   "execution_count": 4,
   "metadata": {},
   "outputs": [],
   "source": [
    "img_gen.gen_multi_lp(1)"
   ]
  },
  {
   "cell_type": "markdown",
   "metadata": {},
   "source": [
    "# Example"
   ]
  },
  {
   "cell_type": "code",
   "execution_count": 4,
   "metadata": {},
   "outputs": [
    {
     "data": {
      "text/plain": [
       "<matplotlib.image.AxesImage at 0x193f43260b8>"
      ]
     },
     "execution_count": 4,
     "metadata": {},
     "output_type": "execute_result"
    },
    {
     "data": {
      "image/png": "[encoded data removed]",
      "text/plain": [
       "<Figure size 432x288 with 1 Axes>"
      ]
     },
     "metadata": {
      "needs_background": "light"
     },
     "output_type": "display_data"
    }
   ],
   "source": [
    "plt.imshow(img_gen.gen_lp(True)['img'])"
   ]
  },
  {
   "cell_type": "code",
   "execution_count": 5,
   "metadata": {},
   "outputs": [
    {
     "data": {
      "text/plain": [
       "<matplotlib.image.AxesImage at 0x193f4301860>"
      ]
     },
     "execution_count": 5,
     "metadata": {},
     "output_type": "execute_result"
    },
    {
     "data": {
      "image/png": "[encoded data removed]",
      "text/plain": [
       "<Figure size 432x288 with 1 Axes>"
      ]
     },
     "metadata": {
      "needs_background": "light"
     },
     "output_type": "display_data"
    }
   ],
   "source": [
    "plt.imshow(img_gen.test_img(True)['img'])"
   ]
  },
  {
   "cell_type": "code",
   "execution_count": 6,
   "metadata": {},
   "outputs": [
    {
     "data": {
      "text/plain": [
       "<matplotlib.image.AxesImage at 0x193f43a5ef0>"
      ]
     },
     "execution_count": 6,
     "metadata": {},
     "output_type": "execute_result"
    },
    {
     "data": {
      "image/png": "[encoded data removed]",
      "text/plain": [
       "<Figure size 432x288 with 1 Axes>"
      ]
     },
     "metadata": {
      "needs_background": "light"
     },
     "output_type": "display_data"
    }
   ],
   "source": [
    "plt.imshow(img_gen.gen_truck_lp(True)['img'])"
   ]
  }
 ],
 "metadata": {
  "kernelspec": {
   "display_name": "Python 3",
   "language": "python",
   "name": "python3"
  },
  "language_info": {
   "codemirror_mode": {
    "name": "ipython",
    "version": 3
   },
   "file_extension": ".py",
   "mimetype": "text/x-python",
   "name": "python",
   "nbconvert_exporter": "python",
   "pygments_lexer": "ipython3",
   "version": "3.7.3"
  }
 },
 "nbformat": 4,
 "nbformat_minor": 4
}
